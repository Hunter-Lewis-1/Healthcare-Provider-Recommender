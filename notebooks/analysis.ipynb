{
 "cells": [
  {
   "cell_type": "markdown",
   "metadata": {},
   "source": [
    "# Healthcare Provider Recommendation System - Visualization"
   ]
  },
  {
   "cell_type": "code",
   "execution_count": null,
   "metadata": {},
   "outputs": [],
   "source": [
    "import numpy as np\n",
    "import pandas as pd\n",
    "import matplotlib.pyplot as plt\n",
    "import seaborn as sns\n",
    "from pathlib import Path\n",
    "import sys\n",
    "\n",
    "# Add parent directory to path\n",
    "sys.path.append('..')\n",
    "\n",
    "# Set plot style\n",
    "sns.set_style('whitegrid')\n",
    "plt.rcParams['figure.figsize'] = (12, 8)"
   ]
  },
  {
   "cell_type": "code",
   "execution_count": null,
   "metadata": {},
   "outputs": [],
   "source": [
    "# Load data or generate if not exists\n",
    "data_dir = Path('../data')\n",
    "if not (data_dir / 'providers_data.csv').exists() or not (data_dir / 'ratings_data.csv').exists():\n",
    "    from generate import generate_provider_data, save_data\n",
    "    providers_df, ratings_df = generate_provider_data()\n",
    "    save_data(providers_df, ratings_df)\n",
    "else:\n",
    "    providers_df = pd.read_csv(data_dir / 'providers_data.csv')\n",
    "    ratings_df = pd.read_csv(data_dir / 'ratings_data.csv')\n",
    "    \n",
    "print(f\"Loaded {len(providers_df)} providers and {len(ratings_df)} ratings\")"
   ]
  },
  {
   "cell_type": "markdown",
   "metadata": {},
   "source": [
    "## 1. Basic Data Visualization"
   ]
  },
  {
   "cell_type": "code",
   "execution_count": null,
   "metadata": {},
   "outputs": [],
   "source": [
    "# Quality vs Cost relationship with specialty\n",
    "plt.figure(figsize=(10, 8))\n",
    "sns.scatterplot(x='quality_score', y='cost', hue='specialty', \n",
    "                alpha=0.6, s=30, data=providers_df)\n",
    "plt.title('Provider Quality vs Cost by Specialty')\n",
    "plt.grid(alpha=0.3)\n",
    "plt.show()"
   ]
  },
  {
   "cell_type": "code",
   "execution_count": null,
   "metadata": {},
   "outputs": [],
   "source": [
    "# Geographic distribution\n",
    "plt.figure(figsize=(10, 8))\n",
    "plt.scatter(providers_df['longitude'], providers_df['latitude'],\n",
    "            c=providers_df['quality_score'], cmap='viridis', alpha=0.5, s=20)\n",
    "plt.colorbar(label='Quality Score')\n",
    "plt.title('Geographic Distribution of Providers')\n",
    "plt.xlabel('Longitude')\n",
    "plt.ylabel('Latitude')\n",
    "plt.grid(alpha=0.3)\n",
    "plt.show()"
   ]
  },
  {
   "cell_type": "markdown",
   "metadata": {},
   "source": [
    "## 2. Provider Clustering"
   ]
  },
  {
   "cell_type": "code",
   "execution_count": null,
   "metadata": {},
   "outputs": [],
   "source": [
    "# Prepare data and apply clustering\n",
    "from clustering import cluster_providers, get_cluster_stats\n",
    "\n",
    "# Create normalized features for clustering\n",
    "providers_df['quality_norm'] = (providers_df['quality_score'] - providers_df['quality_score'].min()) / \\\n",
    "                             (providers_df['quality_score'].max() - providers_df['quality_score'].min())\n",
    "providers_df['cost_norm'] = (providers_df['cost'] - providers_df['cost'].min()) / \\\n",
    "                          (providers_df['cost'].max() - providers_df['cost'].min())\n",
    "\n",
    "# Apply clustering\n",
    "labels = cluster_providers(providers_df, n_clusters=5)\n",
    "cluster_stats = get_cluster_stats(providers_df)\n",
    "\n",
    "print(\"Cluster Statistics:\")\n",
    "display(cluster_stats)"
   ]
  },
  {
   "cell_type": "code",
   "execution_count": null,
   "metadata": {},
   "outputs": [],
   "source": [
    "# Visualize clusters\n",
    "plt.figure(figsize=(10, 8))\n",
    "\n",
    "# Define distinct colors for clusters\n",
    "colors = plt.cm.tab10(np.linspace(0, 1, 5))\n",
    "\n",
    "# Plot each cluster\n",
    "for i in range(5):\n",
    "    cluster_data = providers_df[providers_df['cluster'] == i]\n",
    "    plt.scatter(\n",
    "        cluster_data['quality_score'], \n",
    "        cluster_data['cost'],\n",
    "        color=colors[i],\n",
    "        alpha=0.5,\n",
    "        label=f'Cluster {i} (n={len(cluster_data)})',\n",
    "        s=30\n",
    "    )\n",
    "\n",
    "plt.title('Provider Clusters: Quality vs Cost')\n",
    "plt.xlabel('Quality Score')\n",
    "plt.ylabel('Cost')\n",
    "plt.legend()\n",
    "plt.grid(alpha=0.3)\n",
    "plt.show()"
   ]
  },
  {
   "cell_type": "markdown",
   "metadata": {},
   "source": [
    "## 3. Collaborative Filtering and Recommendations"
   ]
  },
  {
   "cell_type": "code",
   "execution_count": null,
   "metadata": {},
   "outputs": [],
   "source": [
    "from recommender import HealthcareRecommender\n",
    "\n",
    "# Initialize recommender\n",
    "recommender = HealthcareRecommender(data_dir='data')\n",
    "\n",
    "# Choose a sample patient with multiple ratings\n",
    "sample_patient_ids = ratings_df['patient_id'].value_counts().head(3).index.tolist()\n",
    "patient_id = sample_patient_ids[0]\n",
    "print(f\"Selected patient ID: {patient_id}\")"
   ]
  },
  {
   "cell_type": "code",
   "execution_count": null,
   "metadata": {},
   "outputs": [],
   "source": [
    "# Generate recommendations\n",
    "recommendations = recommender.recommend(patient_id, top_n=10)\n",
    "\n",
    "# Display results\n",
    "print(f\"Top 10 recommendations for patient {patient_id}:\")\n",
    "recommendations[['provider_id', 'quality_score', 'cost', 'specialty', 'predicted_rating']]"
   ]
  },
  {
   "cell_type": "code",
   "execution_count": null,
   "metadata": {},
   "outputs": [],
   "source": [
    "# Visualize recommendations on quality-cost plane\n",
    "plt.figure(figsize=(10, 8))\n",
    "\n",
    "# Plot all providers\n",
    "plt.scatter(\n",
    "    recommender.providers_df['quality_score'], \n",
    "    recommender.providers_df['cost'],\n",
    "    alpha=0.2, \n",
    "    s=20,\n",
    "    color='gray',\n",
    "    label='All Providers'\n",
    ")\n",
    "\n",
    "# Plot providers the patient has rated\n",
    "rated_provider_ids = ratings_df[ratings_df['patient_id'] == patient_id]['provider_id'].values\n",
    "rated_providers = recommender.providers_df[recommender.providers_df['provider_id'].isin(rated_provider_ids)]\n",
    "\n",
    "if len(rated_providers) > 0:\n",
    "    plt.scatter(\n",
    "        rated_providers['quality_score'],\n",
    "        rated_providers['cost'],\n",
    "        color='blue',\n",
    "        alpha=0.7,\n",
    "        s=60,\n",
    "        label=f'Previously Rated ({len(rated_providers)})'\n",
    "    )\n",
    "\n",
    "# Plot recommended providers\n",
    "plt.scatter(\n",
    "    recommendations['quality_score'],\n",
    "    recommendations['cost'],\n",
    "    color='red',\n",
    "    s=100,\n",
    "    marker='*',\n",
    "    label='Recommendations'\n",
    ")\n",
    "\n",
    "plt.title(f'Provider Recommendations for Patient {patient_id}')\n",
    "plt.xlabel('Quality Score')\n",
    "plt.ylabel('Cost')\n",
    "plt.legend()\n",
    "plt.grid(alpha=0.3)\n",
    "plt.show()"
   ]
  },
  {
   "cell_type": "code",
   "execution_count": null,
   "metadata": {},
   "outputs": [],
   "source": [
    "# Recommendations by specialty\n",
    "plt.figure(figsize=(10, 6))\n",
    "recommendations['specialty'].value_counts().plot(kind='bar', color=sns.color_palette(\"viridis\"))\n",
    "plt.title('Specialty Distribution in Recommendations')\n",
    "plt.xlabel('Specialty')\n",
    "plt.ylabel('Count')\n",
    "plt.grid(alpha=0.3)\n",
    "plt.tight_layout()\n",
    "plt.show()"
   ]
  },
  {
   "cell_type": "markdown",
   "metadata": {},
   "source": [
    "## 4. Pareto Front Visualization"
   ]
  },
  {
   "cell_type": "code",
   "execution_count": null,
   "metadata": {},
   "outputs": [],
   "source": [
    "from optimize_pareto import fast_non_dominated_sort\n",
    "from collaborative_filtering import predict_ratings\n",
    "\n",
    "# Get predicted ratings for this patient\n",
    "predicted_ratings = predict_ratings(recommender.U, recommender.sigma, recommender.Vt, \n",
    "                                  patient_id, recommender.ratings_matrix)\n",
    "\n",
    "# Create objectives dataframe\n",
    "objectives = recommender.providers_df[['provider_id', 'quality_norm', 'cost_norm']].copy()\n",
    "objectives['rating_pred'] = predicted_ratings\n",
    "objectives['cost_norm'] = -objectives['cost_norm']  # Negate for maximization\n",
    "\n",
    "# Find Pareto front\n",
    "front_indices = fast_non_dominated_sort(objectives)\n",
    "pareto_front = objectives.iloc[front_indices].copy()\n",
    "print(f\"Found {len(pareto_front)} solutions on the Pareto front\")"
   ]
  },
  {
   "cell_type": "code",
   "execution_count": null,
   "metadata": {},
   "outputs": [],
   "source": [
    "# Visualize Pareto front in 2D\n",
    "plt.figure(figsize=(10, 8))\n",
    "\n",
    "plt.scatter(objectives['quality_norm'], -objectives['cost_norm'], \n",
    "            alpha=0.2, s=20, color='gray', label='All Providers')\n",
    "\n",
    "plt.scatter(pareto_front['quality_norm'], -pareto_front['cost_norm'], \n",
    "            alpha=0.8, s=40, color='blue', label='Pareto Front')\n",
    "\n",
    "# Highlight recommendations on Pareto front\n",
    "recs_on_front = pareto_front[pareto_front['provider_id'].isin(recommendations['provider_id'])]\n",
    "plt.scatter(recs_on_front['quality_norm'], -recs_on_front['cost_norm'], \n",
    "            color='red', s=100, marker='*', label='Recommendations')\n",
    "\n",
    "plt.title('Pareto Front: Quality vs Cost')\n",
    "plt.xlabel('Quality (normalized)')\n",
    "plt.ylabel('Cost (normalized, lower is better)')\n",
    "plt.legend()\n",
    "plt.grid(alpha=0.3)\n",
    "plt.show()"
   ]
  }
 ],
 "cells": [
  {
   "cell_type": "markdown",
   "metadata": {},
   "source": [
    "# Healthcare Provider Recommendation System - Visualization"
   ]
  },
  {
   "cell_type": "code",
   "execution_count": null,
   "metadata": {},
   "outputs": [],
   "source": [
    "import numpy as np\n",
    "import pandas as pd\n",
    "import matplotlib.pyplot as plt\n",
    "import seaborn as sns\n",
    "from pathlib import Path\n",
    "import sys\n",
    "\n",
    "# Add parent directory to path\n",
    "sys.path.append('..')\n",
    "\n",
    "# Set plot style\n",
    "sns.set_style('whitegrid')\n",
    "plt.rcParams['figure.figsize'] = (12, 8)"
   ]
  }
 ],
 "metadata": {
  "kernelspec": {
   "display_name": "Python 3",
   "language": "python",
   "name": "python3"
  },
  "language_info": {
   "codemirror_mode": {
    "name": "ipython",
    "version": 3
   },
   "file_extension": ".py",
   "mimetype": "text/x-python",
   "name": "python",
   "nbconvert_exporter": "python",
   "pygments_lexer": "ipython3",
   "version": "3.8.10"
  }
 },
 "nbformat": 4,
 "nbformat_minor": 4
}
