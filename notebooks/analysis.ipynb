{
 "cells": [
  {
   "cell_type": "markdown",
   "metadata": {},
   "source": [
    "# Healthcare Provider Recommendation System - Visualization"
   ]
  },
  {
   "cell_type": "code",
   "execution_count": null,
   "metadata": {},
   "outputs": [],
   "source": [
    "import numpy as np\n",
    "import pandas as pd\n",
    "import matplotlib.pyplot as plt\n",
    "import seaborn as sns\n",
    "from pathlib import Path\n",
    "import sys\n",
    "\n",
    "# Add parent directory to path\n",
    "sys.path.append('..')\n",
    "\n",
    "# Set plot style\n",
    "sns.set_style('whitegrid')\n",
    "plt.rcParams['figure.figsize'] = (12, 8)"
   ]
  },
  {
   "cell_type": "code",
   "execution_count": null,
   "metadata": {},
   "outputs": [],
   "source": [
    "# Load data\n",
    "data_dir = Path('../data')\n",
    "providers_df = pd.read_csv(data_dir / 'providers_data.csv')\n",
    "ratings_df = pd.read_csv(data_dir / 'ratings_data.csv')\n",
    "print(f\"Loaded {len(providers_df)} providers and {len(ratings_df)} ratings\")"
   ]
  },
  {
   "cell_type": "code",
   "execution_count": null,
   "metadata": {},
   "outputs": [],
   "source": [
    "# Quality vs Cost visualization\n",
    "plt.figure(figsize=(10, 8))\n",
    "sns.scatterplot(x='quality_score', y='cost', hue='specialty', alpha=0.6, s=30, data=providers_df)\n",
    "plt.title('Provider Quality vs Cost by Specialty')\n",
    "plt.grid(alpha=0.3)\n",
    "plt.show()"
   ]
  },
  {
   "cell_type": "code",
   "execution_count": null,
   "metadata": {},
   "outputs": [],
   "source": [
    "# Apply clustering\n",
    "from clustering import cluster_providers, get_cluster_stats\n",
    "\n",
    "providers_df['quality_norm'] = (providers_df['quality_score'] - providers_df['quality_score'].min()) \\\n",
    "    / (providers_df['quality_score'].max() - providers_df['quality_score'].min())\n",
    "providers_df['cost_norm'] = (providers_df['cost'] - providers_df['cost'].min()) \\\n",
    "    / (providers_df['cost'].max() - providers_df['cost'].min())\n",
    "\n",
    "labels = cluster_providers(providers_df, n_clusters=5)\n",
    "cluster_stats = get_cluster_stats(providers_df)"
   ]
  },
  {
   "cell_type": "code",
   "execution_count": null,
   "metadata": {},
   "outputs": [],
   "source": [
    "# Visualize clusters\n",
    "plt.figure(figsize=(10, 8))\n",
    "colors = plt.cm.tab10(np.linspace(0, 1, 5))\n",
    "\n",
    "for i in range(5):\n",
    "    cluster_data = providers_df[providers_df['cluster'] == i]\n",
    "    plt.scatter(\n",
    "        cluster_data['quality_score'], \n",
    "        cluster_data['cost'],\n",
    "        color=colors[i],\n",
    "        alpha=0.5,\n",
    "        label=f'Cluster {i}',\n",
    "        s=30\n",
    "    )\n",
    "\n",
    "plt.title('Provider Clusters: Quality vs Cost')\n",
    "plt.xlabel('Quality Score')\n",
    "plt.ylabel('Cost')\n",
    "plt.legend()\n",
    "plt.grid(alpha=0.3)\n",
    "plt.show()"
   ]
  },
  {
   "cell_type": "code",
   "execution_count": null,
   "metadata": {},
   "outputs": [],
   "source": [
    "# Generate recommendations\n",
    "from recommender import HealthcareRecommender\n",
    "\n",
    "recommender = HealthcareRecommender(data_dir='data')\n",
    "patient_id = ratings_df['patient_id'].value_counts().index[0]\n",
    "recommendations = recommender.recommend(patient_id, top_n=10)\n",
    "\n",
    "print(f\"Top 10 recommendations for patient {patient_id}:\")\n",
    "recommendations[['provider_id', 'quality_score', 'cost', 'specialty', 'predicted_rating']]"
   ]
  },
  {
   "cell_type": "code",
   "execution_count": null,
   "metadata": {},
   "outputs": [],
   "source": [
    "# Visualize recommendations\n",
    "plt.figure(figsize=(10, 8))\n",
    "\n",
    "# Plot all providers\n",
    "plt.scatter(\n",
    "    recommender.providers_df['quality_score'], \n",
    "    recommender.providers_df['cost'],\n",
    "    alpha=0.2, \n",
    "    s=20,\n",
    "    color='gray',\n",
    "    label='All Providers'\n",
    ")\n",
    "\n",
    "# Plot recommended providers\n",
    "plt.scatter(\n",
    "    recommendations['quality_score'],\n",
    "    recommendations['cost'],\n",
    "    color='red',\n",
    "    s=100,\n",
    "    marker='*',\n",
    "    label='Recommendations'\n",
    ")\n",
    "\n",
    "plt.title(f'Provider Recommendations for Patient {patient_id}')\n",
    "plt.xlabel('Quality Score')\n",
    "plt.ylabel('Cost')\n",
    "plt.legend()\n",
    "plt.grid(alpha=0.3)\n",
    "plt.show()"
   ]
  },
  {
   "cell_type": "code",
   "execution_count": null,
   "metadata": {},
   "outputs": [],
   "source": [
    "# Pareto front visualization\n",
    "from optimize_pareto import fast_non_dominated_sort\n",
    "from collaborative_filtering import predict_ratings\n",
    "\n",
    "predicted_ratings = predict_ratings(recommender.U, recommender.sigma, recommender.Vt, \n",
    "                                  patient_id, recommender.ratings_matrix)\n",
    "\n",
    "objectives = recommender.providers_df[['provider_id', 'quality_norm', 'cost_norm']].copy()\n",
    "objectives['rating_pred'] = predicted_ratings\n",
    "objectives['cost_norm'] = -objectives['cost_norm']\n",
    "\n",
    "front_indices = fast_non_dominated_sort(objectives)\n",
    "pareto_front = objectives.iloc[front_indices].copy()\n",
    "\n",
    "plt.figure(figsize=(10, 8))\n",
    "plt.scatter(objectives['quality_norm'], -objectives['cost_norm'], \n",
    "            alpha=0.2, s=20, color='gray', label='All Providers')\n",
    "plt.scatter(pareto_front['quality_norm'], -pareto_front['cost_norm'], \n",
    "            alpha=0.8, s=40, color='blue', label='Pareto Front')\n",
    "plt.title('Pareto Front: Quality vs Cost')\n",
    "plt.xlabel('Quality (normalized)')\n",
    "plt.ylabel('Cost (normalized, lower is better)')\n",
    "plt.legend()\n",
    "plt.grid(alpha=0.3)\n",
    "plt.show()"
   ]
  }
 ],
 "metadata": {
  "kernelspec": {
   "display_name": "Python 3",
   "language": "python",
   "name": "python3"
  },
  "language_info": {
   "codemirror_mode": {
    "name": "ipython",
    "version": 3
   },
   "file_extension": ".py",
   "mimetype": "text/x-python",
   "name": "python",
   "nbconvert_exporter": "python",
   "pygments_lexer": "ipython3",
   "version": "3.8.10"
  }
 },
 "nbformat": 4,
 "nbformat_minor": 4
}
